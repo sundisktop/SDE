{
 "cells": [
  {
   "cell_type": "code",
   "execution_count": 31,
   "metadata": {},
   "outputs": [],
   "source": [
    "import numpy as np\n",
    "import math\n",
    "\n",
    "def f(t, w):\n",
    "    return w - t**2 + 1\n",
    "\n",
    "def yt(t):\n",
    "    return (t + 1) ** 2 - 0.5 * math.exp(t)\n",
    "\n",
    "def f_d1(t, w):\n",
    "    return w - t**2 + 1 -2*t\n",
    "\n",
    "##-------------------------------------------------------\n",
    "def f1a(t, w):\n",
    "    return t*math.exp(3*t) - 2*w\n",
    "\n",
    "def f1a_d1(t, w):\n",
    "    return math.exp(3*t)*(3*t+1)\n",
    "\n",
    "def yt1a(t):\n",
    "    return math.exp(3*t) * (-1/25 + t/5) + math.exp(-2 * t)\n",
    "\n",
    "##------------------------------------------------------------\n",
    "def T_2(t, w, f, f_d, h):\n",
    "    return f(t, w) + h/2 * f_d(t, w)"
   ]
  },
  {
   "cell_type": "code",
   "execution_count": 30,
   "metadata": {},
   "outputs": [
    {
     "name": "stdout",
     "output_type": "stream",
     "text": [
      "0.10 0.005000 -0.960000\n",
      "0.20 0.026273 -0.786734\n",
      "0.30 0.072037 -0.644047\n",
      "0.40 0.154784 -0.525966\n",
      "0.50 0.293153 -0.427349\n",
      "0.60 0.514628 -0.343627\n",
      "0.70 0.859377 -0.270538\n",
      "0.80 1.385709 -0.203837\n",
      "0.90 2.177815 -0.138969\n",
      "1.00 3.356703 -0.070646\n"
     ]
    }
   ],
   "source": [
    "a = 0\n",
    "b = 1\n",
    "N = 10\n",
    "h = (b-a)/N\n",
    "\n",
    "w = 0\n",
    "t = a\n",
    "for i in range(1, N + 1):\n",
    "    delta = w - yt1a(t)\n",
    "    w = w + h * T_2(t, w, f1a, f1a_d1, h)\n",
    "    t = a + i * h \n",
    "    \n",
    "    print('%2.2f %2.6f %2.6f' % (t, w, delta))"
   ]
  }
 ],
 "metadata": {
  "kernelspec": {
   "display_name": "Python 3",
   "language": "python",
   "name": "python3"
  },
  "language_info": {
   "codemirror_mode": {
    "name": "ipython",
    "version": 3
   },
   "file_extension": ".py",
   "mimetype": "text/x-python",
   "name": "python",
   "nbconvert_exporter": "python",
   "pygments_lexer": "ipython3",
   "version": "3.6.10"
  }
 },
 "nbformat": 4,
 "nbformat_minor": 4
}

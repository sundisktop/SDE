{
 "cells": [
  {
   "cell_type": "code",
   "execution_count": 1,
   "metadata": {},
   "outputs": [],
   "source": [
    "import numpy as np\n",
    "import math\n",
    "np.set_printoptions(formatter={'float': '{: 0.4f}'.format})"
   ]
  },
  {
   "cell_type": "code",
   "execution_count": 2,
   "metadata": {},
   "outputs": [
    {
     "name": "stdout",
     "output_type": "stream",
     "text": [
      "[[ 1.0000  0.0000]\n",
      " [ 0.0000  0.0000]] 0\n",
      "[[ 0.5000  0.0000]\n",
      " [ 0.0000  0.5000]] 0.5\n",
      "[[ 0.2500  0.0000]\n",
      " [ 0.0000  0.7500]] 1.0\n",
      "[[ 0.1250  0.0000]\n",
      " [ 0.0000  0.8750]] 1.5\n",
      "[[ 0.0625  0.0000]\n",
      " [ 0.0000  0.9375]] 2.0\n",
      "[[ 0.0312  0.0000]\n",
      " [ 0.0000  0.9688]] 2.5\n",
      "[[ 0.0156  0.0000]\n",
      " [ 0.0000  0.9844]] 3.0\n",
      "[[ 0.0078  0.0000]\n",
      " [ 0.0000  0.9922]] 3.5\n",
      "[[ 0.0039  0.0000]\n",
      " [ 0.0000  0.9961]] 4.0\n",
      "[[ 0.0020  0.0000]\n",
      " [ 0.0000  0.9980]] 4.5\n",
      "[[ 0.0010  0.0000]\n",
      " [ 0.0000  0.9990]] 5.0\n",
      "[[ 0.0005  0.0000]\n",
      " [ 0.0000  0.9995]] 5.5\n",
      "[[ 0.0002  0.0000]\n",
      " [ 0.0000  0.9998]] 6.0\n",
      "[[ 0.0001  0.0000]\n",
      " [ 0.0000  0.9999]] 6.5\n",
      "[[ 0.0001  0.0000]\n",
      " [ 0.0000  0.9999]] 7.0\n",
      "[[ 0.0000  0.0000]\n",
      " [ 0.0000  1.0000]] 7.5\n",
      "[[ 0.0000  0.0000]\n",
      " [ 0.0000  1.0000]] 8.0\n",
      "[[ 0.0000  0.0000]\n",
      " [ 0.0000  1.0000]] 8.5\n",
      "[[ 0.0000  0.0000]\n",
      " [ 0.0000  1.0000]] 9.0\n",
      "[[ 0.0000  0.0000]\n",
      " [ 0.0000  1.0000]] 9.5\n",
      "[[ 0.0000  0.0000]\n",
      " [ 0.0000  1.0000]] 10.0\n"
     ]
    }
   ],
   "source": [
    "\n",
    "gamma = 1\n",
    "sigma_plus = np.array([[0,1],\n",
    "                       [0,0]])\n",
    "sigma_minus = sigma_plus.transpose()\n",
    "\n",
    "\n",
    "def f(t, ro):\n",
    "    xx = np.matmul(sigma_plus, sigma_minus)\n",
    "    s1 = np.matmul(xx, ro)\n",
    "    \n",
    "    xx = np.matmul(ro, sigma_plus)\n",
    "    s2 = np.matmul(xx, sigma_minus)\n",
    "    \n",
    "    xx = np.matmul(sigma_minus, ro)\n",
    "    s3 = np.matmul(xx, sigma_plus)\n",
    "    return -gamma/2 * (s1 + s2 - 2 * s3)\n",
    "\n",
    "a = 0\n",
    "b = 10 \n",
    "N = 20\n",
    "ro_0 =np.array([[1.0, 0.0],\n",
    "              [0.0, 0.0]]) \n",
    "\n",
    "h = (b-a)/N\n",
    "t = a\n",
    "w = ro_0\n",
    "print (w,t)\n",
    "\n",
    "for i in range(1, N + 1):\n",
    "    w = w + h * f(t,w)\n",
    "    t = a + i * h\n",
    "    print (w,t)"
   ]
  }
 ],
 "metadata": {
  "kernelspec": {
   "display_name": "Python 3",
   "language": "python",
   "name": "python3"
  },
  "language_info": {
   "codemirror_mode": {
    "name": "ipython",
    "version": 3
   },
   "file_extension": ".py",
   "mimetype": "text/x-python",
   "name": "python",
   "nbconvert_exporter": "python",
   "pygments_lexer": "ipython3",
   "version": "3.6.10"
  }
 },
 "nbformat": 4,
 "nbformat_minor": 4
}

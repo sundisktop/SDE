{
 "cells": [
  {
   "cell_type": "code",
   "execution_count": 3,
   "metadata": {},
   "outputs": [],
   "source": [
    "import numpy as np\n",
    "import math"
   ]
  },
  {
   "cell_type": "markdown",
   "metadata": {},
   "source": [
    "## Stochastic Euler"
   ]
  },
  {
   "cell_type": "code",
   "execution_count": 9,
   "metadata": {},
   "outputs": [],
   "source": [
    "def st_euler(psi0, D1, D2, t0, t_end, h):\n",
    "    w = np.sqrt(h) * np.random.randn()\n",
    "    N = int((t_end - t0)/h)\n",
    "    \n",
    "    for i in range(N):\n",
    "        psi = psi + D1(psi, H, gamma) * h + D2(psi, gamma) * w\n",
    "        w = np.sqrt(h) * np.random.randn()\n",
    "        t = t0 + i*h      \n",
    "    return psi"
   ]
  },
  {
   "cell_type": "code",
   "execution_count": null,
   "metadata": {},
   "outputs": [],
   "source": [
    "gamma = 1\n",
    "sigma_plus = np.array([[0,1],\n",
    "                       [0,0]])\n",
    "sigma_minus = sigma_plus.transpose()"
   ]
  },
  {
   "cell_type": "markdown",
   "metadata": {},
   "source": [
    "## 7.60 "
   ]
  },
  {
   "cell_type": "code",
   "execution_count": null,
   "metadata": {},
   "outputs": [],
   "source": [
    "def brackets(mat, psi):\n",
    "    return np.matmul(np.matmul(psi.conj().T, mat), psi)\n",
    "    \n",
    "def D1(psi, H, gamma):\n",
    "    s1 = np.matmul(brackets(sigma_plus + sigma_minus, psi), sigma_minus) \n",
    "    s2 = np.matmul(sigma_plus, sigma_minus)\n",
    "    s3 = brackets(sigma_plus + sigma_minus, psi) ** 2\n",
    "    return -1j * H * psi + gamma/2 * (s1 - s2 - 1/4 * s3)\n",
    "\n",
    "def D2(psi, gamma):\n",
    "    return np.sqrt(gamma) * (sigma_minus - 1/2 * brackets(sigma_plus + sigma_minus, psi))"
   ]
  },
  {
   "cell_type": "code",
   "execution_count": null,
   "metadata": {},
   "outputs": [],
   "source": []
  },
  {
   "cell_type": "code",
   "execution_count": null,
   "metadata": {},
   "outputs": [],
   "source": []
  }
 ],
 "metadata": {
  "kernelspec": {
   "display_name": "Python 3",
   "language": "python",
   "name": "python3"
  },
  "language_info": {
   "codemirror_mode": {
    "name": "ipython",
    "version": 3
   },
   "file_extension": ".py",
   "mimetype": "text/x-python",
   "name": "python",
   "nbconvert_exporter": "python",
   "pygments_lexer": "ipython3",
   "version": "3.6.10"
  }
 },
 "nbformat": 4,
 "nbformat_minor": 4
}

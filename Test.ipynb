{
 "cells": [
  {
   "cell_type": "code",
   "execution_count": 31,
   "metadata": {},
   "outputs": [],
   "source": [
    "import numpy as np\n",
    "import math\n",
    "\n",
    "def f(t, w):\n",
    "    return w - t**2 + 1\n",
    "\n",
    "def yt(t):\n",
    "    return (t + 1) ** 2 - 0.5 * math.exp(t)\n",
    "\n",
    "def f_d1(t, w):\n",
    "    return w - t**2 + 1 -2*t\n",
    "\n",
    "##-------------------------------------------------------\n",
    "def f1a(t, w):\n",
    "    return t*math.exp(3*t) - 2*w\n",
    "\n",
    "def f1a_d1(t, w):\n",
    "    return math.exp(3*t)*(3*t+1)\n",
    "\n",
    "def yt1a(t):\n",
    "    return math.exp(3*t) * (-1/25 + t/5) + math.exp(-2 * t)\n",
    "\n",
    "##------------------------------------------------------------\n",
    "def T_2(t, w, f, f_d, h):\n",
    "    return f(t, w) + h/2 * f_d(t, w)"
   ]
  },
  {
   "cell_type": "code",
   "execution_count": 40,
   "metadata": {},
   "outputs": [],
   "source": [
    "def heun(f, alpha, t0, h):\n",
    "    res = []\n",
    "    w = alpha\n",
    "    t = t0\n",
    "    res.append([t, w])\n",
    "    for i in range (1, N + 1):\n",
    "        k1 = h * f(t, w)\n",
    "        k2 = h * f(t + 1/3 * h, w + 1/3 * k1)\n",
    "        k3 = h * f(t + 2/3 * h, w + 2/3 * k2)\n",
    "        w = w + (k1 + 3*k3)/4\n",
    "        \n",
    "        t = t0 + i * h\n",
    "        res.append([t, w])\n",
    "    return np.array(res)    \n",
    "\n",
    "def runge_kutta_4(f, alpha, t0, h):\n",
    "    res = []\n",
    "    w = alpha\n",
    "    t = t0\n",
    "    res.append([t0, w])\n",
    "    \n",
    "    for i in range (1, N + 1):\n",
    "        k1 = h * f(t, w)\n",
    "        k2 = h * f(t + h/2, w + 1/2 * k1)\n",
    "        k3 = h * f(t + h/2, w + 1/2 * k2)\n",
    "        k4 = h * f(t + h, w + k3)\n",
    "\n",
    "        w = w + (k1 + 2*k2 + 2*k3 + k4)/6\n",
    "        t = t0 + i * h\n",
    "        res.append([t, w])\n",
    "    return np.array(res)"
   ]
  },
  {
   "cell_type": "code",
   "execution_count": 48,
   "metadata": {},
   "outputs": [],
   "source": [
    "xx = heun(f, 0.5, 0, 0.2)"
   ]
  },
  {
   "cell_type": "code",
   "execution_count": null,
   "metadata": {},
   "outputs": [],
   "source": []
  },
  {
   "cell_type": "code",
   "execution_count": 30,
   "metadata": {},
   "outputs": [
    {
     "name": "stdout",
     "output_type": "stream",
     "text": [
      "0.10 0.005000 -0.960000\n",
      "0.20 0.026273 -0.786734\n",
      "0.30 0.072037 -0.644047\n",
      "0.40 0.154784 -0.525966\n",
      "0.50 0.293153 -0.427349\n",
      "0.60 0.514628 -0.343627\n",
      "0.70 0.859377 -0.270538\n",
      "0.80 1.385709 -0.203837\n",
      "0.90 2.177815 -0.138969\n",
      "1.00 3.356703 -0.070646\n"
     ]
    }
   ],
   "source": [
    "a = 0\n",
    "b = 1\n",
    "N = 10\n",
    "h = (b-a)/N\n",
    "\n",
    "w = 0\n",
    "t = a\n",
    "for i in range(1, N + 1):\n",
    "    delta = w - yt1a(t)\n",
    "    w = w + h * T_2(t, w, f1a, f1a_d1, h)\n",
    "    t = a + i * h \n",
    "    \n",
    "    print('%2.2f %2.6f %2.6f' % (t, w, delta))"
   ]
  },
  {
   "cell_type": "code",
   "execution_count": null,
   "metadata": {},
   "outputs": [],
   "source": [
    "w0 = alpha\n",
    "\n",
    "for i range (i, N + 1):\n",
    "    k1 = h * f(t, w)\n",
    "    k2 = h * f(t + h/2, w + 1/2 * k1)\n",
    "    k3 = h * f(t + h/2, w + 1/2 * k2)\n",
    "    k4 = h * f(t+ h, w + k3)\n",
    "    \n",
    "    w = w + (k1 + 2*k2 + 2*k3 + k4)/6\n",
    "    t = a + ih"
   ]
  },
  {
   "cell_type": "code",
   "execution_count": null,
   "metadata": {},
   "outputs": [],
   "source": [
    "def euler(f, alpha, t0, h):\n",
    "    res = []\n",
    "    w = alpha\n",
    "    t = t0\n",
    "    res.append([t, w])\n",
    "    \n",
    "    for i in range(1, N + 1):\n",
    "        w = w + h * f(t,w)\n",
    "        \n",
    "        t = t0 + i * h\n",
    "        res.append([t,w])\n",
    "    return np.array(res)\n",
    "\n",
    "def heun(f, alpha, t0, h):\n",
    "    res = []\n",
    "    w = alpha\n",
    "    t = t0\n",
    "    res.append([t0, w])\n",
    "    \n",
    "    for i in range (1, N + 1):\n",
    "        k1 = h * f(t, w)\n",
    "        k2 = h * f(t + 1/3 * h, w + 1/3 * k1)\n",
    "        k3 = h * f(t + 2/3 * h, w + 2/3 * k2)\n",
    "        w = w + (k1 + 3*k3)/4\n",
    "        \n",
    "        t = t0 + i * h\n",
    "        res.append([t, w])\n",
    "    return np.array(res)        \n",
    "    \n",
    "def runge_kutta_4(f, alpha, t0, h):\n",
    "    res = []\n",
    "    w = alpha\n",
    "    t = t0\n",
    "    res.append([t0, w])\n",
    "    \n",
    "    for i in range (1, N + 1):\n",
    "        k1 = h * f(t, w)\n",
    "        k2 = h * f(t + h/2, w + 1/2 * k1)\n",
    "        k3 = h * f(t + h/2, w + 1/2 * k2)\n",
    "        k4 = h * f(t + h, w + k3)\n",
    "\n",
    "        w = w + (k1 + 2*k2 + 2*k3 + k4)/6\n",
    "        t = t0 + i * h\n",
    "        res.append([t, w])\n",
    "    return np.array(res)"
   ]
  }
 ],
 "metadata": {
  "kernelspec": {
   "display_name": "Python 3",
   "language": "python",
   "name": "python3"
  },
  "language_info": {
   "codemirror_mode": {
    "name": "ipython",
    "version": 3
   },
   "file_extension": ".py",
   "mimetype": "text/x-python",
   "name": "python",
   "nbconvert_exporter": "python",
   "pygments_lexer": "ipython3",
   "version": "3.6.10"
  }
 },
 "nbformat": 4,
 "nbformat_minor": 4
}
